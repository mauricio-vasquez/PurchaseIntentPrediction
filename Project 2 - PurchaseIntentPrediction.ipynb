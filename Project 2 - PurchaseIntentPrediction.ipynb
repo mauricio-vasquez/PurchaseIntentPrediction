{
 "cells": [
  {
   "cell_type": "markdown",
   "id": "83f77f31",
   "metadata": {},
   "source": [
    "<img src=\"data:image/png;base64,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\" width=\"150\"/>"
   ]
  },
  {
   "cell_type": "markdown",
   "id": "ee252f0e",
   "metadata": {},
   "source": [
    "\n",
    "# APZIVA AI RESIDENCY PROGRAM\n",
    "\n",
    "## Project 2: Intent Marketing\n",
    "### Predicting purchase intent for the banking business with classification models\n",
    "\n",
    "### Prepared by: Mauricio Vásquez A. \n",
    "\n",
    "### Mentor: Swarnabha Ghosh. \n",
    "\n",
    "### May 2023\n",
    "\n",
    "#### Contact email: mauricio_vasquez_andrade@hotmail.com\n",
    "#### LinkedIn: https://www.linkedin.com/in/mauricio-vasquez-andrade-ecuador/"
   ]
  },
  {
   "cell_type": "markdown",
   "id": "d5e3a8e4",
   "metadata": {},
   "source": [
    "# I. BUSINESS UNDERSTANDING & PLANNING"
   ]
  },
  {
   "cell_type": "markdown",
   "id": "1981d9d6",
   "metadata": {},
   "source": [
    "## 1. Business objectives"
   ]
  },
  {
   "cell_type": "markdown",
   "id": "ab105dc7",
   "metadata": {},
   "source": [
    "### a. Background & business objectives"
   ]
  },
  {
   "cell_type": "markdown",
   "id": "ed962fea",
   "metadata": {},
   "source": [
    "**Background:** This project was requested to Apziva by a small startup, that focuses mainly on providing machine learning solutions in the European banking market (hereinafter, \"The Company\"). Since at the time I was participating on Apziva's AI residency program, I was assigned to perform this task. \n",
    "\n",
    "The Company works on a variety of problems including fraud detection, sentiment classification and customer intent prediction and classification. On this specific project, they are interested on developing a robust machine learning system that leverages information coming from call center data.\n",
    "\n",
    "Ultimately, The Company is looking for ways to improve the success rate for calls made by their customers (i.e. financial institutions) for marketing purposes, no matter the product the customer offers. Towards this goal they are working on designing an ever evolving machine learning product that offers high success outcomes while offering interpretability for their clients to make informed decisions (from now on, \"The Product\")."
   ]
  },
  {
   "cell_type": "markdown",
   "id": "4e39e961",
   "metadata": {},
   "source": [
    "**Business problem:** The Company is looking to develop a ML product, that improves the success rate for calls made by their customers for marketing purposes. In this context, success means converting calls into sales. The more sales the financial institutions convert, the less their customer acquisition costs will be. \n",
    "\n",
    "Thus, the business problem can be divided into 2 parts:\n",
    "\n",
    "1. <u>From The Company's point of view</u>: Develop an attractive ML product. To be attractive, the product must solve a particular business problem of the target customers. \n",
    "2. <u>From the target customers' point of view</u>: Converting customers is a challenging task (PwC, 2019). Indeed, European financial institutions estimated to lose over €5bn every year on customer acquisition (FinExtra, 2021). For that reason, they need to enhance marketing effectiveness, by decreasing customer acquisition costs. One possible way to achieve better conversion rates may be telemarketing, but it typically needs human intervention and is less massive than other methods. "
   ]
  },
  {
   "cell_type": "markdown",
   "id": "7e317862",
   "metadata": {},
   "source": [
    "**Current solution from target customers**: It is reasonable to assume that financial institutions may be trying to tackle customer acquisition costs by using digital marketing, establishing partnerships with other companies to generate cross-selling oportunities, implementing digital banking and even using traditional telemarketing (OpenAI, 2023)\n",
    "\n",
    "Nonetheless, digital marketing, although less costly, is impersonal, passive and not as effective as telemarketing to explain complex financial products. Digital banking has the same problems. In that sense, both would need to be complemented with other marketing tactics. Telemarketing may be effective on converting prospects to customers, but if not done in a targeted way, it would result very costly. "
   ]
  },
  {
   "cell_type": "markdown",
   "id": "3e539a58",
   "metadata": {},
   "source": [
    "**Target customers:** The Company's expertise and current comercial relations is centered on European financial institutions. This industry is one of the most promising for contact centre outsourcing services (CBI, 2022), hence, they might be big spenders on telephone marketing. Other important target customers might be retail, IT and Telecom service providers. \n",
    "\n",
    "Although CRM and marketing automation providers may act as competitors, they might also require the services of The Company in order to include or refine algorithmic lead scoring for financial sector verticals on their own systems. \n",
    "\n",
    "*Early adopters*: Taking into account the close relationship of financial institutions with The Company and their need to decrease customer acquisition costs, it is likely that financial instutions will be the early adopters of the system. \n",
    "\n",
    "Since B2C financial institutions have a larger target market than B2B, B2B or G2G segments (VSynergize, s.f.), it is likely that the need for automation might be more urgent for B2C financial institutiions, therefore, they might be the first ones to try The Product."
   ]
  },
  {
   "cell_type": "markdown",
   "id": "9a23298a",
   "metadata": {},
   "source": [
    "**Business objectives:**\n",
    "\n",
    "1. <u>General Goal:</u> Develop a Minimum Viable Product (MVP) and increase the telemarketing conversion rate of at least 10 banks by 1.5% each, in 6 months.\n",
    "\n",
    "\n",
    "2. <u>Specific goals:</u>\n",
    "\n",
    "* Develop at least one Proof of Concept (POC) in 2 weeks. \n",
    "* Develop at least one MVP in 3 weeks.\n",
    "* Increase each users' conversion rate by 1.5 extra percentage points, holding the same or less number of calls from the last marketing campaign MVP.\n",
    "* Quantify the possible value gained by a bank for using the MVP, in terms of profit. \n",
    "\n",
    "**Note:** Values and time frames are my own assumptions. In a real situation, I would have previously discussed and agreed them with stakeholders. "
   ]
  },
  {
   "cell_type": "markdown",
   "id": "402bdc2a",
   "metadata": {},
   "source": [
    "### b. Business/project sucess criteria"
   ]
  },
  {
   "cell_type": "markdown",
   "id": "d10c61b3",
   "metadata": {},
   "source": [
    "In order to consider the project sucessful, the following requirements should be met:\n",
    "\n",
    "1. 1 POC should be completed in 2 weeks and include at least: Business understanding documentation, data cleaning and wrangling, EDA analysis of purchase factors, model training and selection, conclusions and recommendations. \n",
    "2. 1 MVP should be completed 3 weeks and include at least: \n",
    "    * Backend: an algorithm and/or heuristics rule that predicts purchase intent based on specific data and then stores the results in a structured format.\n",
    "    * Frontend: A simple interface where the user is able to activate the predictions and visualize interpretable results. \n",
    "3. At least 10 financial institutions should report having increased its customer conversion rates."
   ]
  },
  {
   "cell_type": "markdown",
   "id": "c02336e7",
   "metadata": {},
   "source": [
    "## 2. Stakeholders"
   ]
  },
  {
   "cell_type": "markdown",
   "id": "8c1ed7e8",
   "metadata": {},
   "source": [
    "Given that the goals are focused on lead conversion, the main stakeholders might be the financial institutions' marketing and sales teams (or call center teams). Other interested parties might be The Company's CEO, product development team and financial team."
   ]
  },
  {
   "cell_type": "markdown",
   "id": "f8b2ef9d",
   "metadata": {},
   "source": [
    "## 3. Situation assessment"
   ]
  },
  {
   "cell_type": "markdown",
   "id": "6db0d014",
   "metadata": {},
   "source": [
    "### a. Solution assesment and value proposition"
   ]
  },
  {
   "cell_type": "markdown",
   "id": "a410ffe0",
   "metadata": {},
   "source": [
    "**Value proposition:** Convert phone calls into customers with less effort by identifying the most likely adopters. "
   ]
  },
  {
   "cell_type": "markdown",
   "id": "26b84a3a",
   "metadata": {},
   "source": [
    "**Possible alternatives to solve the business problem:** Since The Company offers Machine Learning (ML) solutions, the scope of the alternatives lie mainly within this activity. Specifically, The Company is suitable to build a predictive lead scoring system, which *assigns a ranking to sales prospects by looking at historical data to determine patterns of won business, and comparing new prospects to the pattern to establish a likelihood of purchase.* (Lewis, 2013, p. 53-55).\n",
    "\n",
    "Still, The Company could try to leverage its knowledge on software development and data analysis to build a simpler heuristics based system. For example, according to Lewis (2013), an alternative to a predictive lead scoring system could be to perform a qualification-only lead scoring based on a subjective analysis by the marketing and sales teams. Another common approach would be to blend both subjective and predictive lead scoring. \n"
   ]
  },
  {
   "cell_type": "markdown",
   "id": "2834416b",
   "metadata": {},
   "source": [
    "**Proposed solution:** Design a predictive lead scoring system, that follows this characteristics:\n",
    "\n",
    "1. \n",
    "2. \n",
    "3. \n",
    "\n",
    "**[TO BE COMPLETED]**"
   ]
  },
  {
   "cell_type": "markdown",
   "id": "bd13b4fe",
   "metadata": {},
   "source": [
    "### b. Inventory of resources"
   ]
  },
  {
   "cell_type": "markdown",
   "id": "6b8ae708",
   "metadata": {},
   "source": [
    "**b.1. Data sources**"
   ]
  },
  {
   "cell_type": "markdown",
   "id": "61e102ad",
   "metadata": {},
   "source": [
    "**[TO BE COMPLETED]**"
   ]
  },
  {
   "cell_type": "markdown",
   "id": "ab54e6d0",
   "metadata": {},
   "source": [
    "**b.2. IT requirements**"
   ]
  },
  {
   "cell_type": "markdown",
   "id": "07f75735",
   "metadata": {},
   "source": [
    "Holding the assumptions above, the following IT requirements will be needed:\n",
    "\n",
    "**i. Hardware**\n",
    "\n",
    "1 Laptop or desktop computer per Data Scientist or Analyst, minimum 16 GB RAM and 1 TB disk space.  \n",
    "\n",
    "**ii. Software**\n",
    "\n",
    "***Licensed***\n",
    "\n",
    "No licensed software will be needed. \n",
    "\n",
    "***Open source/free***\n",
    "\n",
    "* Anaconda\n",
    "* Python\n",
    "* Github desktop\n",
    "* Planning software (Jira, Microsoft Planner or Asana)"
   ]
  },
  {
   "cell_type": "markdown",
   "id": "c34a6dd5",
   "metadata": {},
   "source": [
    "**b.3. Personnel requirements**"
   ]
  },
  {
   "cell_type": "markdown",
   "id": "143b36fb",
   "metadata": {},
   "source": [
    "* 1 semi-senior quantitative marketing research analyst or Data Scientist with marketing domain knowledge: \n",
    "* 1 senior marketing analyst: For analyzing and suggesting actions for increasing customer conversion rates. Also, for performing quality review on team's work.\n",
    "* 1 CMO: For setting the goals and performing the final review, giving feedback to the team and approving results."
   ]
  },
  {
   "cell_type": "markdown",
   "id": "af9f11ea",
   "metadata": {},
   "source": [
    "### c. Requirements, assumptions & constraints\n"
   ]
  },
  {
   "cell_type": "markdown",
   "id": "d04d78a6",
   "metadata": {},
   "source": [
    "**Requirements:** \n",
    "\n",
    "1. <u>Distribution channels:</u>\n",
    "\n",
    "**Assumptions:** \n",
    "\n",
    "**Legal / security constraints:** The company will have to comply at least with GDPR rules, which is one of the most recent data privacy laws in the Western world (Techopedia, 2022)."
   ]
  },
  {
   "cell_type": "markdown",
   "id": "3e7b0796",
   "metadata": {},
   "source": [
    "### d. Risks and contingencies"
   ]
  },
  {
   "cell_type": "markdown",
   "id": "7373bf4c",
   "metadata": {},
   "source": [
    "**Risks:**\n",
    "\n",
    "* ***Scheduling:*** The project might take longer due to the following reasons: \n",
    "\n",
    "\n",
    "* ***Financial:*** Budgetary problems might if there is the need to change data collection or analyzing methods, as well if there are any changes on quality standards or regulations that constrain the use of open source / free IT tools. \n",
    "\n",
    "\n",
    "* ***Data:*** Insuficient or bad quality data (e.g. missing values, duplicated values, inaccurate/invalid data, inconsistent data, unreliable sample, etc.) might mean not only project delays, but also low performance results.\n",
    "\n",
    "\n",
    "* ***Results:*** Principally due to data risks, results might not be achieved on the degree that the stakeholders expect. "
   ]
  },
  {
   "cell_type": "markdown",
   "id": "91c60922",
   "metadata": {},
   "source": [
    "**Contingency Plan:**\n",
    "\n",
    "* ***Scheduling risks:*** i) ; ii) ; iii) An additional emergency time period should be considered in the project plan, which should allow to handle any unexpected delay. \n",
    "\n",
    "\n",
    "* ***Financial risks:*** The project should consider an emergency budget in case of unexpected events, such as the need to change the data collection method or regulation issuance/amendments. \n",
    "\n",
    "\n",
    "* ***Data risks:*** \n",
    "\n",
    "\n",
    "* ***Results risks:*** A good expectations management should be implemented. For that, a clear scope and limitations of the project should be communicated and agreed with key leaders/stakeholders throughout the beggining until the end of the project. \n"
   ]
  },
  {
   "cell_type": "markdown",
   "id": "7235ac8f",
   "metadata": {},
   "source": [
    "### e. Glossary"
   ]
  },
  {
   "cell_type": "markdown",
   "id": "744d8e91",
   "metadata": {},
   "source": []
  },
  {
   "cell_type": "markdown",
   "id": "27cd2ed3",
   "metadata": {},
   "source": [
    "### f. Project cost/benefit analysis"
   ]
  },
  {
   "cell_type": "markdown",
   "id": "e63d50bf",
   "metadata": {},
   "source": [
    "**Costs:**\n",
    "\n",
    "* 1 semi-senior marketing research analyst or Data Scientist with marketing domain knowledge: USD xxx (xx hours, EUR xxx/hr)*.\n",
    "* 1 senior marketing analyst: EUR xxx  (xx hours, EUR XXX/hr)\n",
    "* 1 CMO: EUR xxx (xx hours, EUR XXX/hr)\n",
    "\n",
    "***Subtotal:*** USD xxxx\n",
    "\n",
    "* Emergency Budget: USD xxxx (50% of gross cost).\n",
    "\n",
    "***Total cost:*** USD xxx\n",
    "\n",
    "**Expected benefit / revenue streams:** **[TO BE COMPLETED]**\n",
    "\n",
    "--------------------------------------------------------------------------------------------------------------------------\n",
    "\n",
    "**Note:** The company has not specified in what countries plans to hire human capital. It is assumed that the company is based on the European Union.\n",
    "\n",
    "**Note 2:** Semi-senior marketing research analyst is wage is taken for a 4-6 years marketing research analyst. Hiring a data scientist may result in a higher cost (almost the double). Nonetheless, it might be enough to use a marketing research analyst for this project.\n",
    "\n",
    "**Note 3:** The estimated budget accounts for one survey.  \n",
    "\n",
    "**Source:** Glassdoor. Recovered: April XX, 2023, from: https://www.glassdoor.com/Salaries/index.htm."
   ]
  },
  {
   "cell_type": "markdown",
   "id": "ddbafb90",
   "metadata": {},
   "source": [
    "## 4. Data science goals and project scope"
   ]
  },
  {
   "cell_type": "markdown",
   "id": "c831fd27",
   "metadata": {},
   "source": [
    "**Goals:**\n",
    "\n",
    "The company has required the following Data Science goals:\n",
    "* Conduct EDA analysis, to visualize and explain: \n",
    "* Choose a classification model to predict xxx"
   ]
  },
  {
   "cell_type": "markdown",
   "id": "fd2f446c",
   "metadata": {},
   "source": [
    "**Project scope:** The project will be divided in several phases (see next section). 2nd phase -Data wrangling & analysis- will be performed by the marketing research/data science team. This phase will be considered completed if, at least:\n",
    "\n",
    "1. 3 classification models were trained, evaluated and compared.\n",
    "2. The most important survey questions were determined through EDA and feature importance approaches."
   ]
  },
  {
   "cell_type": "markdown",
   "id": "1b95e6c0",
   "metadata": {},
   "source": [
    "## 5. Project plan"
   ]
  },
  {
   "cell_type": "markdown",
   "id": "38bea3df",
   "metadata": {},
   "source": [
    "### a. Phases, tasks and duration"
   ]
  },
  {
   "cell_type": "markdown",
   "id": "5a9dcbbf",
   "metadata": {},
   "source": [
    "The project has the following phases:\n",
    "\n",
    "1. Planning / Kick off:  \n",
    "2. Survey design and data collection: \n",
    "3. Data wrangling & analysis:  \n",
    "4. Results socialization, feedback & refinement: \n",
    "5. Marketing analysis & action plan: \n",
    "6. Marketing implementation:\n",
    "7. Sales KPIs follow up & evaluation:\n",
    "\n",
    "***Total duration:*** XX working days."
   ]
  },
  {
   "cell_type": "markdown",
   "id": "b88f0da3",
   "metadata": {},
   "source": [
    "### b. Tools and techniques assesment"
   ]
  },
  {
   "cell_type": "markdown",
   "id": "5dba15c7",
   "metadata": {},
   "source": [
    "The following tools apply for phase 3: Data wrangling & analysis.\n",
    "\n",
    "**Tools:**\n",
    "\n",
    "* Python: General purpose programming language which includes data science and machine learning libraries. Very useful for data wrangling, analysis & predictive modelling. \n",
    "* Jupyter: Web-based interactive computing platform. Useful for showcasing data science proof of concepts (POCs) to stakeholders.\n",
    "* Github: Code hosting platform and repository for version control and collaboration. It lets the programmer/analyst and its team work together on projects from anywhere.\n",
    "\n",
    "**Techniques:** EDA, ML classification models, cross validation. "
   ]
  },
  {
   "cell_type": "markdown",
   "id": "8fca2615",
   "metadata": {},
   "source": [
    "**Sources:**\n",
    "1. Alternics. s.f. Increasing sales of telemarketing campaigns in a bank. From: https://www.artelnics.com/case_studies/banking-sector-case.html\n",
    "2. Centre for the Promotion of Imports from developing countries (CBI). 2022. The European market potential for contact centre services. From: https://www.cbi.eu/market-information/outsourcing-itobpo/contact-center-services/market-potential\n",
    "3. Finextra. 2021. European financial institutions estimated to lose over €5bn every year on customer acquisition. From: https://www.finextra.com/pressarticle/86294/european-financial-institutions-estimated-to-lose-over-5bn-every-year-on-customer-acquisition\n",
    "4. Ghosh, S. 2023. Data Science Project Template. Author's own ellaboration.\n",
    "5. IBM. s.f. IBM SPSS Modeler CRISP-DM Guide. From: https://www.ibm.com/docs/it/SS3RA7_18.3.0/pdf/ModelerCRISPDM.pdf\n",
    "6. PwC. 2019. Strategy&: Getting the balance right. From: https://www.strategyand.pwc.com/de/en/industries/financial-services/getting-the-balance-right/getting-the-balance-right.pdf\n",
    "7. Lewis, D. 2013. Manufacturing demand. From: https://www.google.com.ec/books/edition/Manufacturing_Demand/xA9XfNwx_lgC?hl=es&gbpv=0\n",
    "8. Luna, Z. 2021. CRISP-DM Phase 1: Business Understanding. From:  https://medium.com/analytics-vidhya/crisp-dm-phase-1-business-understanding-255b47adf90a\n",
    "9. Mullen, S. 2016. An Introduction to Lean Canvas. From: https://medium.com/@steve_mullen/an-introduction-to-lean-canvas-5c17c469d3e0\n",
    "10. OpenAI. ChatGPT to Mauricio Vásquez: Bank Telemarketing spending. April 21, 2023.\n",
    "11. Techopedia. 2022. 10 Strictest Data Privacy Laws By Country in 2022. From: https://www.techopedia.com/10-data-privacy-laws-every-business-should-know/2/34759\n",
    "12. VSynergize. s.f. How is B2B Telemarketing Different from B2C Telemarketing. From: https://vsynergize.com/how-is-b2b-telemarketing-different-from-b2c-telemarketing/"
   ]
  },
  {
   "cell_type": "markdown",
   "id": "646ecdc6",
   "metadata": {},
   "source": [
    "# III. PROOF OF CONCEPT"
   ]
  },
  {
   "cell_type": "markdown",
   "id": "f24bf489",
   "metadata": {},
   "source": [
    "## 0. Import libraries & set display"
   ]
  },
  {
   "cell_type": "code",
   "execution_count": 2,
   "id": "5fcd7104",
   "metadata": {},
   "outputs": [],
   "source": [
    "# Basic libraries\n",
    "import numpy as np\n",
    "import pandas as pd\n",
    "import warnings\n",
    "warnings.filterwarnings('ignore')\n",
    "\n",
    "# Data preprocessing\n",
    "from sklearn.preprocessing import OrdinalEncoder\n",
    "\n",
    "# Visualization\n",
    "import seaborn as sns\n",
    "import matplotlib.pyplot as plt\n",
    "sns.set() # Setting seaborn as default style even if use only matplotlib\n",
    "\n",
    "# Modelling\n",
    "from sklearn.model_selection import train_test_split, cross_val_score, GridSearchCV, cross_validate\n",
    "from sklearn.linear_model import LogisticRegression\n",
    "from sklearn import svm\n",
    "from sklearn import metrics\n",
    "from sklearn.ensemble import RandomForestClassifier\n",
    "#from sklearn.tree import export_graphviz\n",
    "\n",
    "#set display\n",
    "pd.set_option('display.max_columns', None)"
   ]
  },
  {
   "cell_type": "markdown",
   "id": "b9235d30",
   "metadata": {},
   "source": [
    "## 1. Data importing, understanding and preprocessing"
   ]
  },
  {
   "cell_type": "markdown",
   "id": "f77ca998",
   "metadata": {},
   "source": [
    "**Data description**\n",
    "\n"
   ]
  },
  {
   "cell_type": "code",
   "execution_count": 3,
   "id": "37ca91e9",
   "metadata": {},
   "outputs": [],
   "source": [
    "# Import data\n",
    "# = pd.read_csv("
   ]
  },
  {
   "cell_type": "code",
   "execution_count": 3,
   "id": "68428b51",
   "metadata": {},
   "outputs": [
    {
     "name": "stdout",
     "output_type": "stream",
     "text": [
      "<class 'pandas.core.frame.DataFrame'>\n",
      "RangeIndex: 126 entries, 0 to 125\n",
      "Data columns (total 7 columns):\n",
      " #   Column  Non-Null Count  Dtype   \n",
      "---  ------  --------------  -----   \n",
      " 0   Y       126 non-null    category\n",
      " 1   X1      126 non-null    category\n",
      " 2   X2      126 non-null    category\n",
      " 3   X3      126 non-null    category\n",
      " 4   X4      126 non-null    category\n",
      " 5   X5      126 non-null    category\n",
      " 6   X6      126 non-null    category\n",
      "dtypes: category(7)\n",
      "memory usage: 2.2 KB\n"
     ]
    }
   ],
   "source": [
    "# Explore dataset structure and formats\n",
    "#x.info()"
   ]
  },
  {
   "cell_type": "code",
   "execution_count": 4,
   "id": "b155b6b7",
   "metadata": {},
   "outputs": [
    {
     "data": {
      "text/html": [
       "<div>\n",
       "<style scoped>\n",
       "    .dataframe tbody tr th:only-of-type {\n",
       "        vertical-align: middle;\n",
       "    }\n",
       "\n",
       "    .dataframe tbody tr th {\n",
       "        vertical-align: top;\n",
       "    }\n",
       "\n",
       "    .dataframe thead th {\n",
       "        text-align: right;\n",
       "    }\n",
       "</style>\n",
       "<table border=\"1\" class=\"dataframe\">\n",
       "  <thead>\n",
       "    <tr style=\"text-align: right;\">\n",
       "      <th></th>\n",
       "      <th>Y</th>\n",
       "      <th>X1</th>\n",
       "      <th>X2</th>\n",
       "      <th>X3</th>\n",
       "      <th>X4</th>\n",
       "      <th>X5</th>\n",
       "      <th>X6</th>\n",
       "    </tr>\n",
       "  </thead>\n",
       "  <tbody>\n",
       "    <tr>\n",
       "      <th>0</th>\n",
       "      <td>0</td>\n",
       "      <td>3</td>\n",
       "      <td>3</td>\n",
       "      <td>3</td>\n",
       "      <td>4</td>\n",
       "      <td>2</td>\n",
       "      <td>4</td>\n",
       "    </tr>\n",
       "    <tr>\n",
       "      <th>1</th>\n",
       "      <td>0</td>\n",
       "      <td>3</td>\n",
       "      <td>2</td>\n",
       "      <td>3</td>\n",
       "      <td>5</td>\n",
       "      <td>4</td>\n",
       "      <td>3</td>\n",
       "    </tr>\n",
       "    <tr>\n",
       "      <th>2</th>\n",
       "      <td>1</td>\n",
       "      <td>5</td>\n",
       "      <td>3</td>\n",
       "      <td>3</td>\n",
       "      <td>3</td>\n",
       "      <td>3</td>\n",
       "      <td>5</td>\n",
       "    </tr>\n",
       "    <tr>\n",
       "      <th>3</th>\n",
       "      <td>0</td>\n",
       "      <td>5</td>\n",
       "      <td>4</td>\n",
       "      <td>3</td>\n",
       "      <td>3</td>\n",
       "      <td>3</td>\n",
       "      <td>5</td>\n",
       "    </tr>\n",
       "    <tr>\n",
       "      <th>4</th>\n",
       "      <td>0</td>\n",
       "      <td>5</td>\n",
       "      <td>4</td>\n",
       "      <td>3</td>\n",
       "      <td>3</td>\n",
       "      <td>3</td>\n",
       "      <td>5</td>\n",
       "    </tr>\n",
       "  </tbody>\n",
       "</table>\n",
       "</div>"
      ],
      "text/plain": [
       "   Y X1 X2 X3 X4 X5 X6\n",
       "0  0  3  3  3  4  2  4\n",
       "1  0  3  2  3  5  4  3\n",
       "2  1  5  3  3  3  3  5\n",
       "3  0  5  4  3  3  3  5\n",
       "4  0  5  4  3  3  3  5"
      ]
     },
     "execution_count": 4,
     "metadata": {},
     "output_type": "execute_result"
    }
   ],
   "source": [
    "#x.head(5)"
   ]
  },
  {
   "cell_type": "markdown",
   "id": "3e5e3248",
   "metadata": {},
   "source": [
    "## 2. Exploratory Data Analysis"
   ]
  },
  {
   "cell_type": "code",
   "execution_count": 5,
   "id": "84c60d64",
   "metadata": {},
   "outputs": [
    {
     "data": {
      "text/html": [
       "<div>\n",
       "<style scoped>\n",
       "    .dataframe tbody tr th:only-of-type {\n",
       "        vertical-align: middle;\n",
       "    }\n",
       "\n",
       "    .dataframe tbody tr th {\n",
       "        vertical-align: top;\n",
       "    }\n",
       "\n",
       "    .dataframe thead th {\n",
       "        text-align: right;\n",
       "    }\n",
       "</style>\n",
       "<table border=\"1\" class=\"dataframe\">\n",
       "  <thead>\n",
       "    <tr style=\"text-align: right;\">\n",
       "      <th></th>\n",
       "      <th>Y</th>\n",
       "      <th>X1</th>\n",
       "      <th>X2</th>\n",
       "      <th>X3</th>\n",
       "      <th>X4</th>\n",
       "      <th>X5</th>\n",
       "      <th>X6</th>\n",
       "    </tr>\n",
       "  </thead>\n",
       "  <tbody>\n",
       "    <tr>\n",
       "      <th>count</th>\n",
       "      <td>126</td>\n",
       "      <td>126</td>\n",
       "      <td>126</td>\n",
       "      <td>126</td>\n",
       "      <td>126</td>\n",
       "      <td>126</td>\n",
       "      <td>126</td>\n",
       "    </tr>\n",
       "    <tr>\n",
       "      <th>unique</th>\n",
       "      <td>2</td>\n",
       "      <td>4</td>\n",
       "      <td>5</td>\n",
       "      <td>5</td>\n",
       "      <td>5</td>\n",
       "      <td>5</td>\n",
       "      <td>5</td>\n",
       "    </tr>\n",
       "    <tr>\n",
       "      <th>top</th>\n",
       "      <td>1</td>\n",
       "      <td>5</td>\n",
       "      <td>3</td>\n",
       "      <td>3</td>\n",
       "      <td>4</td>\n",
       "      <td>4</td>\n",
       "      <td>5</td>\n",
       "    </tr>\n",
       "    <tr>\n",
       "      <th>freq</th>\n",
       "      <td>69</td>\n",
       "      <td>65</td>\n",
       "      <td>42</td>\n",
       "      <td>55</td>\n",
       "      <td>53</td>\n",
       "      <td>50</td>\n",
       "      <td>57</td>\n",
       "    </tr>\n",
       "  </tbody>\n",
       "</table>\n",
       "</div>"
      ],
      "text/plain": [
       "          Y   X1   X2   X3   X4   X5   X6\n",
       "count   126  126  126  126  126  126  126\n",
       "unique    2    4    5    5    5    5    5\n",
       "top       1    5    3    3    4    4    5\n",
       "freq     69   65   42   55   53   50   57"
      ]
     },
     "execution_count": 5,
     "metadata": {},
     "output_type": "execute_result"
    }
   ],
   "source": [
    "# Quick overview of descriptive statistics\n",
    "satisfaction.describe()"
   ]
  },
  {
   "cell_type": "markdown",
   "id": "474d4de6",
   "metadata": {},
   "source": []
  },
  {
   "cell_type": "code",
   "execution_count": 6,
   "id": "77ccb851",
   "metadata": {},
   "outputs": [
    {
     "data": {
      "text/plain": [
       "[Text(0, 0, '69'), Text(0, 0, '57')]"
      ]
     },
     "execution_count": 6,
     "metadata": {},
     "output_type": "execute_result"
    },
    {
     "data": {
      "image/png": "[encoded data removed]",
      "text/plain": [
       "<Figure size 640x480 with 1 Axes>"
      ]
     },
     "metadata": {},
     "output_type": "display_data"
    }
   ],
   "source": [
    "# Graph target variable\n",
    "ax = sns.countplot(satisfaction['Y'], order=satisfaction['Y'].value_counts(ascending=False).index)\n",
    "abs_values = satisfaction['Y'].value_counts(ascending=False).values\n",
    "ax.bar_label(container=ax.containers[0], labels=abs_values)"
   ]
  },
  {
   "cell_type": "markdown",
   "id": "d91e04e9",
   "metadata": {},
   "source": [
    "Code source for seaborn graph: https://stackoverflow.com/questions/49044131/how-to-add-data-labels-to-seaborn-countplot-factorplot"
   ]
  },
  {
   "cell_type": "markdown",
   "id": "d7e0b093",
   "metadata": {},
   "source": []
  },
  {
   "cell_type": "code",
   "execution_count": 8,
   "id": "cada7ac7",
   "metadata": {},
   "outputs": [
    {
     "data": {
      "text/plain": [
       "<seaborn.axisgrid.FacetGrid at 0x287c3ce5c10>"
      ]
     },
     "execution_count": 8,
     "metadata": {},
     "output_type": "execute_result"
    },
    {
     "data": {
      "image/png": "[encoded data removed]",
      "text/plain": [
       "<Figure size 600x300 with 2 Axes>"
      ]
     },
     "metadata": {},
     "output_type": "display_data"
    }
   ],
   "source": [
    "sea = sns.FacetGrid(satisfaction, col=\"Y\")\n",
    "sea.map(sns.countplot,\"X1\")"
   ]
  },
  {
   "cell_type": "markdown",
   "id": "39904f3a",
   "metadata": {},
   "source": [
    "As we observed before, it is clear that happy customers prevail in this question. Delivery time have good grades in general, even within unhappy customers. Additionally, it can be seen that most unhappy customers graded delivery time with a lower grade (4) than happy ones (5). "
   ]
  },
  {
   "cell_type": "markdown",
   "id": "3895c397",
   "metadata": {},
   "source": []
  },
  {
   "cell_type": "markdown",
   "id": "20101d23",
   "metadata": {},
   "source": [
    "Correlation between features show the interaction between them and may influence the results of the model feature importance, that are going to be estimated further."
   ]
  },
  {
   "cell_type": "code",
   "execution_count": null,
   "id": "4d6decf0",
   "metadata": {},
   "outputs": [],
   "source": []
  },
  {
   "cell_type": "code",
   "execution_count": 14,
   "id": "5029cca2",
   "metadata": {},
   "outputs": [
    {
     "data": {
      "text/plain": [
       "<AxesSubplot:>"
      ]
     },
     "execution_count": 14,
     "metadata": {},
     "output_type": "execute_result"
    },
    {
     "data": {
      "image/png": "[encoded data removed]",
      "text/plain": [
       "<Figure size 640x480 with 2 Axes>"
      ]
     },
     "metadata": {},
     "output_type": "display_data"
    }
   ],
   "source": [
    "corr = satisfaction[[\"X1\", \"X2\",\"X3\",\"X4\", \"X5\", \"X6\"]].astype(int).corr(method='kendall')\n",
    "\n",
    "sns.heatmap(corr, \n",
    "           xticklabels=corr.columns.values, \n",
    "           yticklabels=corr.columns.values, \n",
    "           cmap=\"Blues\", \n",
    "          annot=True)"
   ]
  },
  {
   "cell_type": "markdown",
   "id": "19bcb5b0",
   "metadata": {},
   "source": [
    "References: \n",
    "1. https://www.phdata.io/blog/data-science-stats-review/#:~:text=Kendall%27s%20is%20often%20used%20when,does%20not%20require%20continuous%20data.\n",
    "\n",
    "2. https://www.westga.edu/academics/research/vrc/assets/docs/scatterplots_and_correlation_notes.pdf"
   ]
  },
  {
   "cell_type": "markdown",
   "id": "d1c1494a",
   "metadata": {},
   "source": [
    "### Preliminary conclusions from EDA\n"
   ]
  },
  {
   "cell_type": "markdown",
   "id": "5dcd534d",
   "metadata": {},
   "source": [
    "1. "
   ]
  },
  {
   "cell_type": "markdown",
   "id": "ebbddf01",
   "metadata": {},
   "source": [
    "**Note**: The conclusions above hold over the assumption that the sample given by the company is representative and unbiased.  "
   ]
  },
  {
   "cell_type": "markdown",
   "id": "3ad75677",
   "metadata": {},
   "source": [
    "## 3. Model training, selection and evaluation"
   ]
  },
  {
   "cell_type": "markdown",
   "id": "387df567",
   "metadata": {},
   "source": [
    "### a. Split the dataset into train and test\n"
   ]
  },
  {
   "cell_type": "code",
   "execution_count": 4,
   "id": "810e92a7",
   "metadata": {},
   "outputs": [],
   "source": [
    "#Prepare data\n",
    "X = satisfaction.iloc[:,1:]\n",
    "Y = satisfaction['Y']\n",
    "tagsy = ['Unhappy (0)', 'Happy (1)']\n",
    "\n",
    "# Split\n",
    "X_train,X_test,Y_train,Y_test = train_test_split(X,Y,test_size=0.2,random_state=42)"
   ]
  },
  {
   "cell_type": "markdown",
   "id": "32ba0c7c",
   "metadata": {},
   "source": [
    "### b. Baseline model: logistic regression"
   ]
  },
  {
   "cell_type": "code",
   "execution_count": 16,
   "id": "d7d338ca",
   "metadata": {},
   "outputs": [],
   "source": [
    "# Model training\n",
    "logistic = LogisticRegression()\n",
    "logistic_model = logistic.fit(X_train.astype(int), Y_train.astype(int))  \n",
    "\n",
    "# Prediction\n",
    "y_pred = logistic.predict(X_test.astype(int))"
   ]
  },
  {
   "cell_type": "code",
   "execution_count": 17,
   "id": "f5786aea",
   "metadata": {},
   "outputs": [
    {
     "name": "stdout",
     "output_type": "stream",
     "text": [
      "Accuracy score : 0.590\n",
      "Precision score : 0.598\n",
      "Recall (sensitivity) score : 0.574\n",
      "F1 score : 0.563\n"
     ]
    }
   ],
   "source": [
    "# Model evaluation:\n",
    "    # Training data performance\n",
    "    \n",
    "scoring = {'acc': 'accuracy',\n",
    "           'prec_macro': 'precision_macro',\n",
    "           'rec_macro': 'recall_macro',\n",
    "           'f1_macro': 'f1_macro'}\n",
    "\n",
    "scores = cross_validate(logistic, X_train.astype(int), Y_train.astype(int), cv=10, scoring=scoring)\n",
    "\n",
    "print ('Accuracy score : %.3f' % scores['test_acc'].mean())\n",
    "print ('Precision score : %.3f' % scores['test_prec_macro'].mean())\n",
    "print ('Recall (sensitivity) score : %.3f' % scores['test_rec_macro'].mean())\n",
    "print ('F1 score : %.3f' % scores['test_f1_macro'].mean())"
   ]
  },
  {
   "cell_type": "code",
   "execution_count": 18,
   "id": "6a4e396f",
   "metadata": {},
   "outputs": [
    {
     "name": "stdout",
     "output_type": "stream",
     "text": [
      "              precision    recall  f1-score   support\n",
      "\n",
      " Unhappy (0)      0.556     0.333     0.417        15\n",
      "   Happy (1)      0.412     0.636     0.500        11\n",
      "\n",
      "    accuracy                          0.462        26\n",
      "   macro avg      0.484     0.485     0.458        26\n",
      "weighted avg      0.495     0.462     0.452        26\n",
      "\n"
     ]
    }
   ],
   "source": [
    "    # Test data performance\n",
    "print(metrics.classification_report(Y_test.astype(int), y_pred.astype(int), target_names=tagsy, digits=3))"
   ]
  },
  {
   "cell_type": "markdown",
   "id": "4e7907c2",
   "metadata": {},
   "source": []
  },
  {
   "cell_type": "markdown",
   "id": "46c8af4c",
   "metadata": {},
   "source": [
    "### c. Random Forest"
   ]
  },
  {
   "cell_type": "markdown",
   "id": "afb1547c",
   "metadata": {},
   "source": [
    "####  c.1. Random Forest: Default parameters"
   ]
  },
  {
   "cell_type": "code",
   "execution_count": 19,
   "id": "604f5597",
   "metadata": {},
   "outputs": [
    {
     "name": "stdout",
     "output_type": "stream",
     "text": [
      "Train score: 0.9400\n",
      "Test score:  0.6154\n",
      "OOB score:   0.5400\n"
     ]
    }
   ],
   "source": [
    "# Model training\n",
    "rf = RandomForestClassifier(oob_score = True, random_state=42)\n",
    "rf.fit(X_train, Y_train)\n",
    "\n",
    "# Evaluate model\n",
    "training_score = rf.score(X_train, Y_train)\n",
    "testing_score = rf.score(X_test, Y_test)\n",
    "\n",
    "\n",
    "# Print the results!\n",
    "print(f\"Train score: {training_score:>5.4f}\")\n",
    "print(f\"Test score: {testing_score:>7.4f}\")\n",
    "print(f\"OOB score: {rf.oob_score_:>8.4f}\")"
   ]
  },
  {
   "cell_type": "code",
   "execution_count": 20,
   "id": "a11ca71a",
   "metadata": {},
   "outputs": [
    {
     "data": {
      "image/png": "[encoded data removed]",
      "text/plain": [
       "<Figure size 1000x500 with 1 Axes>"
      ]
     },
     "metadata": {},
     "output_type": "display_data"
    }
   ],
   "source": [
    "# Get the feature importances from our trained model...\n",
    "importances = rf.feature_importances_\n",
    "\n",
    "# Find the indices of the feature importances in descending order\n",
    "indices = np.argsort(importances)[::-1]\n",
    "\n",
    "# Plotting a bar chart of feature importances in descending order\n",
    "plt.figure(figsize=(10,5))\n",
    "sns.barplot(y=X_train.columns[indices],\n",
    "            x=importances[indices]);"
   ]
  },
  {
   "cell_type": "markdown",
   "id": "a6eb5d05",
   "metadata": {},
   "source": [
    "The Random Forest Model with default parameters results in better performance, but in much more overfitting than the logistic regression. Also, the most important feature is X2, which is contradictory of what I found in EDA analysis. Next, we will try to fine tune the model's hyperparameters."
   ]
  },
  {
   "cell_type": "markdown",
   "id": "81436249",
   "metadata": {},
   "source": [
    "####  c.2. Random Forest: Fine tuned with GridSearchCV"
   ]
  },
  {
   "cell_type": "code",
   "execution_count": 21,
   "id": "2d5a4574",
   "metadata": {},
   "outputs": [
    {
     "data": {
      "text/plain": [
       "14"
      ]
     },
     "execution_count": 21,
     "metadata": {},
     "output_type": "execute_result"
    }
   ],
   "source": [
    "# Display maximum depth of the trees\n",
    "max([est.get_depth() for est in rf.estimators_])"
   ]
  },
  {
   "cell_type": "markdown",
   "id": "2fe8eb1e",
   "metadata": {},
   "source": [
    "Reference: https://stackoverflow.com/questions/34214087/how-do-you-access-tree-depth-in-pythons-scikit-learn"
   ]
  },
  {
   "cell_type": "code",
   "execution_count": 22,
   "id": "9e77f08a",
   "metadata": {},
   "outputs": [
    {
     "data": {
      "text/plain": [
       "GridSearchCV(estimator=RandomForestClassifier(n_jobs=-1, random_state=42),\n",
       "             param_grid={'max_depth': [3, 6, 9, 12, 15],\n",
       "                         'max_features': ['sqrt', 3, 4, 5, 6]})"
      ]
     },
     "execution_count": 22,
     "metadata": {},
     "output_type": "execute_result"
    }
   ],
   "source": [
    "# Define parameters\n",
    "parameters = {'max_depth':[3,6,9,12,15],\n",
    "              'max_features': ['sqrt', 3, 4, 5, 6]}\n",
    "# Initialize model\n",
    "rf = RandomForestClassifier(n_jobs=-1, random_state=42) # Set to run all jobs in parallel and to be reproducible\n",
    "              \n",
    "# Fine tune parameters and train the model\n",
    "classifier = GridSearchCV(rf, parameters)\n",
    "classifier.fit(X_train, Y_train)"
   ]
  },
  {
   "cell_type": "code",
   "execution_count": 23,
   "id": "40106d04",
   "metadata": {},
   "outputs": [
    {
     "data": {
      "text/plain": [
       "{'bootstrap': True,\n",
       " 'ccp_alpha': 0.0,\n",
       " 'class_weight': None,\n",
       " 'criterion': 'gini',\n",
       " 'max_depth': 3,\n",
       " 'max_features': 5,\n",
       " 'max_leaf_nodes': None,\n",
       " 'max_samples': None,\n",
       " 'min_impurity_decrease': 0.0,\n",
       " 'min_samples_leaf': 1,\n",
       " 'min_samples_split': 2,\n",
       " 'min_weight_fraction_leaf': 0.0,\n",
       " 'n_estimators': 100,\n",
       " 'n_jobs': -1,\n",
       " 'oob_score': False,\n",
       " 'random_state': 42,\n",
       " 'verbose': 0,\n",
       " 'warm_start': False}"
      ]
     },
     "execution_count": 23,
     "metadata": {},
     "output_type": "execute_result"
    }
   ],
   "source": [
    "# print out what GridSearchCV found to be the best parameters \n",
    "classifier.best_estimator_.get_params()"
   ]
  },
  {
   "cell_type": "markdown",
   "id": "0b6a11ef",
   "metadata": {},
   "source": [
    "GridSearchCV finds out that it is better to use 5 features (questions) on each node and a depth of 3 levels. Next we will train the model and evaluate its feature importance:"
   ]
  },
  {
   "cell_type": "code",
   "execution_count": 24,
   "id": "b959fff3",
   "metadata": {},
   "outputs": [
    {
     "name": "stdout",
     "output_type": "stream",
     "text": [
      "Train score: 0.7400\n",
      "Test score:  0.4615\n",
      "OOB score:   0.6800\n"
     ]
    }
   ],
   "source": [
    "# Train the model with best hiperparameters\n",
    "rf = RandomForestClassifier(oob_score=True, max_depth = 3, max_features = 5, random_state = 42)\n",
    "\n",
    "rf.fit(X_train, Y_train)\n",
    "\n",
    "# Evaluate model\n",
    "training_score = rf.score(X_train, Y_train)\n",
    "testing_score = rf.score(X_test, Y_test)\n",
    "\n",
    "\n",
    "# Print the results!\n",
    "print(f\"Train score: {training_score:>5.4f}\")\n",
    "print(f\"Test score: {testing_score:>7.4f}\")\n",
    "print(f\"OOB score: {rf.oob_score_:>8.4f}\")"
   ]
  },
  {
   "cell_type": "markdown",
   "id": "508cb7a9",
   "metadata": {},
   "source": [
    "Overfitting improves but it is not overcome yet. The performance of the model worsened and almost equates logistic regression."
   ]
  },
  {
   "cell_type": "code",
   "execution_count": 25,
   "id": "6d3e9e6b",
   "metadata": {},
   "outputs": [
    {
     "data": {
      "image/png": "[encoded data removed]",
      "text/plain": [
       "<Figure size 1000x500 with 1 Axes>"
      ]
     },
     "metadata": {},
     "output_type": "display_data"
    }
   ],
   "source": [
    "# Get the feature importances from our trained model...\n",
    "importances = rf.feature_importances_\n",
    "\n",
    "# Find the indices of the feature importances in descending order\n",
    "indices = np.argsort(importances)[::-1]\n",
    "\n",
    "# Plotting a bar chart of feature importances in descending order\n",
    "plt.figure(figsize=(10,5))\n",
    "sns.barplot(y=X_train.columns[indices],\n",
    "            x=importances[indices]);"
   ]
  },
  {
   "cell_type": "markdown",
   "id": "2d81ef2c",
   "metadata": {},
   "source": [
    "It is worth noting that since I trained the model with 5 parameters, X4 might be not be taken into account in the first nodes of the model. Following my intuition X2 explains little about customer satisfaction. Taking into account this, next we are going to try dropping X2 to see if the model improves."
   ]
  },
  {
   "cell_type": "markdown",
   "id": "73e3b747",
   "metadata": {},
   "source": [
    "####  c.3. Random Forest: Fine tuned having X2 dropped"
   ]
  },
  {
   "cell_type": "code",
   "execution_count": 26,
   "id": "51070df4",
   "metadata": {},
   "outputs": [],
   "source": [
    "X_train2 = X_train.drop('X2', axis = 1)\n",
    "X_test2 = X_test.drop('X2', axis = 1)"
   ]
  },
  {
   "cell_type": "code",
   "execution_count": 27,
   "id": "54cd18ef",
   "metadata": {},
   "outputs": [
    {
     "name": "stdout",
     "output_type": "stream",
     "text": [
      "Train score: 0.7400\n",
      "Test score:  0.5000\n",
      "OOB score:   0.6800\n"
     ]
    }
   ],
   "source": [
    "# Train the model\n",
    "rf = RandomForestClassifier(oob_score=True, max_depth = 3, max_features = 5, random_state = 42)\n",
    "\n",
    "rf.fit(X_train2, Y_train)\n",
    "\n",
    "# Evaluate model\n",
    "training_score = rf.score(X_train2, Y_train)\n",
    "testing_score = rf.score(X_test2, Y_test)\n",
    "\n",
    "\n",
    "# Print the results!\n",
    "print(f\"Train score: {training_score:>5.4f}\")\n",
    "print(f\"Test score: {testing_score:>7.4f}\")\n",
    "print(f\"OOB score: {rf.oob_score_:>8.4f}\")"
   ]
  },
  {
   "cell_type": "code",
   "execution_count": 28,
   "id": "d3cf6ae6",
   "metadata": {},
   "outputs": [
    {
     "data": {
      "image/png": "[encoded data removed]",
      "text/plain": [
       "<Figure size 1000x500 with 1 Axes>"
      ]
     },
     "metadata": {},
     "output_type": "display_data"
    }
   ],
   "source": [
    "# Get the feature importances from our final trained model...\n",
    "importances = rf.feature_importances_\n",
    "\n",
    "# Find the indices of the feature importances in descending order\n",
    "indices = np.argsort(importances)[::-1]\n",
    "\n",
    "# Plotting a bar chart of feature importances in descending order\n",
    "plt.figure(figsize=(10,5))\n",
    "sns.barplot(y=X_train2.columns[indices],\n",
    "            x=importances[indices]);"
   ]
  },
  {
   "cell_type": "markdown",
   "id": "a0fb5dce",
   "metadata": {},
   "source": [
    "Now model performance improved and the results are more coherent than the previous model. Still, we may try to see how the model performs if we keep all of the features but train it with 4 features at each split."
   ]
  },
  {
   "cell_type": "markdown",
   "id": "9e593dbd",
   "metadata": {},
   "source": [
    "####  c.4. Random Forest: Fine tuned with 4 features in each split"
   ]
  },
  {
   "cell_type": "code",
   "execution_count": 29,
   "id": "2d7125ec",
   "metadata": {},
   "outputs": [
    {
     "name": "stdout",
     "output_type": "stream",
     "text": [
      "Train score: 0.7400\n",
      "Test score:  0.5385\n",
      "OOB score:   0.6700\n"
     ]
    }
   ],
   "source": [
    "# Train the model\n",
    "rf = RandomForestClassifier(oob_score=True, max_depth = 3, max_features = 4, random_state = 42)\n",
    "\n",
    "rf.fit(X_train, Y_train)\n",
    "\n",
    "# Evaluate model\n",
    "training_score = rf.score(X_train, Y_train)\n",
    "testing_score = rf.score(X_test, Y_test)\n",
    "\n",
    "\n",
    "# Print the results!\n",
    "print(f\"Train score: {training_score:>5.4f}\")\n",
    "print(f\"Test score: {testing_score:>7.4f}\")\n",
    "print(f\"OOB score: {rf.oob_score_:>8.4f}\")"
   ]
  },
  {
   "cell_type": "markdown",
   "id": "a8e52f4f",
   "metadata": {},
   "source": [
    "Training the model with 4 features at each split results in a better score than the previous Random Forest and the baseline models. Nonetheless, the model continues to be overfitted and to underperform the goal. Let's evaluate feature performance to confirm if the results are coherent with EDA analysis: "
   ]
  },
  {
   "cell_type": "code",
   "execution_count": 30,
   "id": "5c5b88fd",
   "metadata": {},
   "outputs": [
    {
     "data": {
      "image/png": "[encoded data removed]",
      "text/plain": [
       "<Figure size 1000x500 with 1 Axes>"
      ]
     },
     "metadata": {},
     "output_type": "display_data"
    }
   ],
   "source": [
    "# Get the feature importances from our final trained model...\n",
    "importances = rf.feature_importances_\n",
    "\n",
    "# Find the indices of the feature importances in descending order\n",
    "indices = np.argsort(importances)[::-1]\n",
    "\n",
    "# Plotting a bar chart of feature importances in descending order\n",
    "plt.figure(figsize=(10,5))\n",
    "sns.barplot(y=X_train.columns[indices],\n",
    "            x=importances[indices]);"
   ]
  },
  {
   "cell_type": "markdown",
   "id": "be04d436",
   "metadata": {},
   "source": [
    "Counterintuitively, using 4 features on each split, the least important feature is not X2. In that sense, taking into account that the logistics company is heavily interested on knowing the set of questions they should ask, as well as there is no coherence with EDA, it might be better to use the former model. This holds even although the former model has a lower accuracy, this last model is failing to explain adequately the importance of features. "
   ]
  },
  {
   "cell_type": "markdown",
   "id": "4e906409",
   "metadata": {},
   "source": [
    "####  c.5. Random Forest: Cross Validation with whole data"
   ]
  },
  {
   "cell_type": "markdown",
   "id": "07f72a7a",
   "metadata": {},
   "source": [
    "The models' bad performance might be caused because of lack of data, since the dataset is small. With that in mind, I will try to train a selected Random Forest model (c.3.) with the whole dataset, i.e. without splitting it into train and test subsets. Next, I will attempt to use cross validation to evaluate its performance."
   ]
  },
  {
   "cell_type": "code",
   "execution_count": 10,
   "id": "25cf874f",
   "metadata": {},
   "outputs": [],
   "source": [
    "# Prepare the data\n",
    "X2 = X.drop('X2', axis = 1)"
   ]
  },
  {
   "cell_type": "code",
   "execution_count": 31,
   "id": "4bca47fb",
   "metadata": {},
   "outputs": [
    {
     "name": "stdout",
     "output_type": "stream",
     "text": [
      "Accuracy score : 0.565\n",
      "Precision score : 0.552\n",
      "Recall (sensitivity) score : 0.557\n",
      "F1 score : 0.540\n"
     ]
    }
   ],
   "source": [
    "# Train the model\n",
    "rf = RandomForestClassifier(oob_score=True, max_depth = 3, max_features = 5, random_state = 42)\n",
    "rf.fit(X2, Y)\n",
    "\n",
    "# Evaluate model\n",
    "scoring = {'acc': 'accuracy',\n",
    "           'prec_macro': 'precision_macro',\n",
    "           'rec_macro': 'recall_macro',\n",
    "           'f1_macro': 'f1_macro'}\n",
    "\n",
    "scores = cross_validate(rf, X2, Y, cv=10, scoring=scoring)\n",
    "\n",
    "print ('Accuracy score : %.3f' % scores['test_acc'].mean())\n",
    "print ('Precision score : %.3f' % scores['test_prec_macro'].mean())\n",
    "print ('Recall (sensitivity) score : %.3f' % scores['test_rec_macro'].mean())\n",
    "print ('F1 score : %.3f' % scores['test_f1_macro'].mean())"
   ]
  },
  {
   "cell_type": "code",
   "execution_count": 32,
   "id": "0085f8d3",
   "metadata": {},
   "outputs": [
    {
     "data": {
      "image/png": "[encoded data removed]",
      "text/plain": [
       "<Figure size 1000x500 with 1 Axes>"
      ]
     },
     "metadata": {},
     "output_type": "display_data"
    }
   ],
   "source": [
    "# Get the feature importances from our final trained model...\n",
    "importances = rf.feature_importances_\n",
    "\n",
    "# Find the indices of the feature importances in descending order\n",
    "indices = np.argsort(importances)[::-1]\n",
    "\n",
    "# Plotting a bar chart of feature importances in descending order\n",
    "plt.figure(figsize=(10,5))\n",
    "sns.barplot(y=X2.columns[indices],\n",
    "            x=importances[indices]);"
   ]
  },
  {
   "cell_type": "markdown",
   "id": "f0077262",
   "metadata": {},
   "source": [
    "Using the whole dataset, Random Forest (c.2.) model performance improved. Nonetheless, model accuracy is still below what the company expects to be. "
   ]
  },
  {
   "cell_type": "markdown",
   "id": "80b42925",
   "metadata": {},
   "source": [
    "### d. Support Vector Machines"
   ]
  },
  {
   "cell_type": "markdown",
   "id": "621fd6d7",
   "metadata": {},
   "source": [
    "#### d.1. SVM with default parameters"
   ]
  },
  {
   "cell_type": "markdown",
   "id": "39637991",
   "metadata": {},
   "source": [
    "One last model to try, might be support vector machines, which usually perform well on small datasets. Since the logistics company is interested on feature importance, I will use a linear kernel and rbf (other kernels do not allow this computation)."
   ]
  },
  {
   "cell_type": "code",
   "execution_count": 33,
   "id": "23abaac2",
   "metadata": {
    "scrolled": true
   },
   "outputs": [
    {
     "name": "stdout",
     "output_type": "stream",
     "text": [
      "Train score: 0.6600\n",
      "Test score:  0.5000\n"
     ]
    }
   ],
   "source": [
    "# Train the model\n",
    "svmclf = svm.SVC(kernel='linear')  \n",
    "svmclf.fit(X_train, Y_train)\n",
    "\n",
    "# Evaluate model\n",
    "training_score = svmclf.score(X_train, Y_train)\n",
    "testing_score = svmclf.score(X_test, Y_test)\n",
    "\n",
    "# Print the results!\n",
    "print(f\"Train score: {training_score:>5.4f}\")\n",
    "print(f\"Test score: {testing_score:>7.4f}\")"
   ]
  },
  {
   "cell_type": "markdown",
   "id": "3fbe570a",
   "metadata": {},
   "source": [
    "Linear SVM (with default configuration) has a similar performance than Random Forest, but less overfitted. "
   ]
  },
  {
   "cell_type": "code",
   "execution_count": 34,
   "id": "ec4eaeae",
   "metadata": {},
   "outputs": [
    {
     "name": "stdout",
     "output_type": "stream",
     "text": [
      "[['X2' 'X5' 'X4' 'X3' 'X6' 'X1']]\n"
     ]
    }
   ],
   "source": [
    "# Use SVM coefficients as a measure of feature importance\n",
    "imp = abs(svmclf.coef_)\n",
    "indices = np.argsort(imp)\n",
    "print(X_train.columns[indices])"
   ]
  },
  {
   "cell_type": "markdown",
   "id": "afcfad14",
   "metadata": {},
   "source": [
    "SVM considers that X1 is the most important feature and X2 is the least important feature. "
   ]
  },
  {
   "cell_type": "markdown",
   "id": "d084dee7",
   "metadata": {},
   "source": [
    "#### d.2. SVM - Fine tuned with GridSearchCV"
   ]
  },
  {
   "cell_type": "code",
   "execution_count": 35,
   "id": "4816645b",
   "metadata": {},
   "outputs": [
    {
     "data": {
      "text/plain": [
       "GridSearchCV(estimator=SVC(random_state=4),\n",
       "             param_grid={'C': [0.1, 1, 10, 100],\n",
       "                         'gamma': ['scale', 1, 0.1, 0.01, 0.001],\n",
       "                         'kernel': ['linear', 'poly', 'rbf', 'sigmoid']})"
      ]
     },
     "execution_count": 35,
     "metadata": {},
     "output_type": "execute_result"
    }
   ],
   "source": [
    "# Define parameters\n",
    "parameters = {'kernel':['linear', 'poly', 'rbf', 'sigmoid'],\n",
    "              'gamma': ['scale', 1, 0.1, 0.01, 0.001],\n",
    "               'C': [0.1, 1, 10, 100]}\n",
    "\n",
    "# Train the model\n",
    "svm = svm.SVC(random_state=4) \n",
    "              \n",
    "# Fine tune parameters and train the model\n",
    "classifier = GridSearchCV(svm, parameters)\n",
    "classifier.fit(X_train, Y_train)"
   ]
  },
  {
   "cell_type": "code",
   "execution_count": 36,
   "id": "a7793a51",
   "metadata": {},
   "outputs": [
    {
     "data": {
      "text/plain": [
       "{'C': 10,\n",
       " 'break_ties': False,\n",
       " 'cache_size': 200,\n",
       " 'class_weight': None,\n",
       " 'coef0': 0.0,\n",
       " 'decision_function_shape': 'ovr',\n",
       " 'degree': 3,\n",
       " 'gamma': 0.01,\n",
       " 'kernel': 'poly',\n",
       " 'max_iter': -1,\n",
       " 'probability': False,\n",
       " 'random_state': 4,\n",
       " 'shrinking': True,\n",
       " 'tol': 0.001,\n",
       " 'verbose': False}"
      ]
     },
     "execution_count": 36,
     "metadata": {},
     "output_type": "execute_result"
    }
   ],
   "source": [
    "# print out what GridSearchCV found to be the best parameters \n",
    "classifier.best_estimator_.get_params()"
   ]
  },
  {
   "cell_type": "markdown",
   "id": "6cf90c39",
   "metadata": {},
   "source": [
    "Source: https://www.vebuso.com/2020/03/svm-hyperparameter-tuning-using-gridsearchcv/"
   ]
  },
  {
   "cell_type": "markdown",
   "id": "ac0293c9",
   "metadata": {},
   "source": [
    "GridSearch suggests that an SVM with C regularization = 10, gamma = 0.01 and a polynomial kernel would be the best hyperparameters. Let's try it."
   ]
  },
  {
   "cell_type": "code",
   "execution_count": 5,
   "id": "7d1ee6bf",
   "metadata": {},
   "outputs": [
    {
     "name": "stdout",
     "output_type": "stream",
     "text": [
      "Train score: 0.6600\n",
      "Test score:  0.5769\n"
     ]
    }
   ],
   "source": [
    "# Train the model\n",
    "svmclf2 = svm.SVC(kernel = 'poly', gamma = 0.01, C = 10, random_state = 4)  \n",
    "svmclf2.fit(X_train, Y_train)\n",
    "\n",
    "# Evaluate model\n",
    "training_score = svmclf2.score(X_train, Y_train)\n",
    "testing_score = svmclf2.score(X_test, Y_test)\n",
    "\n",
    "# Print the results!\n",
    "print(f\"Train score: {training_score:>5.4f}\")\n",
    "print(f\"Test score: {testing_score:>7.4f}\")"
   ]
  },
  {
   "cell_type": "markdown",
   "id": "4c384e80",
   "metadata": {},
   "source": [
    "Polynomial SVM improved significantly overfitting and accuracy. Unfortunately, it does not allow to compute feature importances. For it, I am going to try with a Gaussian RBF model. "
   ]
  },
  {
   "cell_type": "markdown",
   "id": "34a24c0e",
   "metadata": {},
   "source": [
    "#### d.3. SVM - Gaussian Kernel"
   ]
  },
  {
   "cell_type": "code",
   "execution_count": 6,
   "id": "cf555a6c",
   "metadata": {},
   "outputs": [
    {
     "name": "stdout",
     "output_type": "stream",
     "text": [
      "Train score: 0.6500\n",
      "Test score:  0.4615\n"
     ]
    }
   ],
   "source": [
    "# Train the model\n",
    "svmclf3 = svm.SVC(kernel = 'rbf', gamma = 0.01, C = 10, random_state = 4)  \n",
    "svmclf3.fit(X_train, Y_train)\n",
    "\n",
    "# Evaluate model\n",
    "training_score = svmclf3.score(X_train, Y_train)\n",
    "testing_score = svmclf3.score(X_test, Y_test)\n",
    "\n",
    "# Print the results!\n",
    "print(f\"Train score: {training_score:>5.4f}\")\n",
    "print(f\"Test score: {testing_score:>7.4f}\")"
   ]
  },
  {
   "cell_type": "markdown",
   "id": "c017137a",
   "metadata": {},
   "source": [
    "Gaussian kernel performs worst than linear and polynomial kernel. "
   ]
  },
  {
   "cell_type": "markdown",
   "id": "a0a5cc3e",
   "metadata": {},
   "source": [
    "#### d.4. SVM - Cross Validation with whole data"
   ]
  },
  {
   "cell_type": "markdown",
   "id": "e8a99d66",
   "metadata": {},
   "source": [
    "In a similar way as with Random Forest models, next we might attempt to use the entire dataset to train the best SVM model (d.1), taking into account its interpretability and performance."
   ]
  },
  {
   "cell_type": "code",
   "execution_count": 7,
   "id": "e42cbd6f",
   "metadata": {},
   "outputs": [
    {
     "name": "stdout",
     "output_type": "stream",
     "text": [
      "Accuracy score : 0.541\n",
      "Precision score : 0.532\n",
      "Recall (sensitivity) score : 0.522\n",
      "F1 score : 0.508\n"
     ]
    }
   ],
   "source": [
    "# Train the model\n",
    "svmclf = svm.SVC(kernel='linear')  \n",
    "svmclf.fit(X, Y)\n",
    "\n",
    "# Evaluate model\n",
    "scoring = {'acc': 'accuracy',\n",
    "           'prec_macro': 'precision_macro',\n",
    "           'rec_macro': 'recall_macro',\n",
    "           'f1_macro': 'f1_macro'}\n",
    "\n",
    "scores = cross_validate(svmclf, X, Y, cv=10, scoring=scoring)\n",
    "\n",
    "print ('Accuracy score : %.3f' % scores['test_acc'].mean())\n",
    "print ('Precision score : %.3f' % scores['test_prec_macro'].mean())\n",
    "print ('Recall (sensitivity) score : %.3f' % scores['test_rec_macro'].mean())\n",
    "print ('F1 score : %.3f' % scores['test_f1_macro'].mean())"
   ]
  },
  {
   "cell_type": "code",
   "execution_count": 8,
   "id": "88128b72",
   "metadata": {},
   "outputs": [
    {
     "name": "stdout",
     "output_type": "stream",
     "text": [
      "[['X3' 'X2' 'X6' 'X4' 'X5' 'X1']]\n"
     ]
    }
   ],
   "source": [
    "# Use SVM coefficients as a measure of feature importance\n",
    "imp = abs(svmclf.coef_)\n",
    "indices = np.argsort(imp)\n",
    "print(X.columns[indices])"
   ]
  },
  {
   "cell_type": "markdown",
   "id": "7f28b24b",
   "metadata": {},
   "source": [
    "Again, the model score improved, but still below what the company expects. This suggests that the company might need more quality data to reach the score it expects.  "
   ]
  },
  {
   "cell_type": "markdown",
   "id": "cd3a13bf",
   "metadata": {},
   "source": [
    "#### d.5. SVM - Cross Validation with whole data, excluding X2"
   ]
  },
  {
   "cell_type": "markdown",
   "id": "a0c9327e",
   "metadata": {},
   "source": [
    "Following EDA conclusions, one last model to try is a linear SVM that excludes X2 variable. "
   ]
  },
  {
   "cell_type": "code",
   "execution_count": 11,
   "id": "7c25917a",
   "metadata": {},
   "outputs": [
    {
     "name": "stdout",
     "output_type": "stream",
     "text": [
      "Accuracy score : 0.574\n",
      "Precision score : 0.559\n",
      "Recall (sensitivity) score : 0.554\n",
      "F1 score : 0.542\n"
     ]
    }
   ],
   "source": [
    "# Train the model\n",
    "svmclf = svm.SVC(kernel='linear')  \n",
    "svmclf.fit(X2, Y)\n",
    "\n",
    "# Evaluate model\n",
    "scoring = {'acc': 'accuracy',\n",
    "           'prec_macro': 'precision_macro',\n",
    "           'rec_macro': 'recall_macro',\n",
    "           'f1_macro': 'f1_macro'}\n",
    "\n",
    "scores = cross_validate(svmclf, X2, Y, cv=10, scoring=scoring)\n",
    "\n",
    "print ('Accuracy score : %.3f' % scores['test_acc'].mean())\n",
    "print ('Precision score : %.3f' % scores['test_prec_macro'].mean())\n",
    "print ('Recall (sensitivity) score : %.3f' % scores['test_rec_macro'].mean())\n",
    "print ('F1 score : %.3f' % scores['test_f1_macro'].mean())"
   ]
  },
  {
   "cell_type": "code",
   "execution_count": 12,
   "id": "d478b293",
   "metadata": {},
   "outputs": [
    {
     "name": "stdout",
     "output_type": "stream",
     "text": [
      "[['X4' 'X3' 'X6' 'X5' 'X1']]\n"
     ]
    }
   ],
   "source": [
    "# Use SVM coefficients as a measure of feature importance\n",
    "imp = abs(svmclf.coef_)\n",
    "indices = np.argsort(imp)\n",
    "print(X2.columns[indices])"
   ]
  },
  {
   "cell_type": "markdown",
   "id": "798f5f1e",
   "metadata": {},
   "source": [
    "This is the best performing and explainable model, as it achieved the best score with the most consistent results with EDA analysis."
   ]
  },
  {
   "cell_type": "markdown",
   "id": "d2cfa174",
   "metadata": {},
   "source": [
    "## 4. Conclusions"
   ]
  },
  {
   "cell_type": "markdown",
   "id": "bbd7d47e",
   "metadata": {},
   "source": [
    "1. No model is able to reach 73% of accuracy or more. The best performing model is a Support Vector Machine with polynomial kernel (57.7% accuracy). However, taking into account that the logistics company needs to know what are the most important questions in its survey, a linear SVM should be the best choice within ML models (50% - 55.6%, depending on the size of the dataset). This suggests that the company might need to balance 2 choices: i) getting more quality data to reach the score it expects; or, ii) keep its current method to predict (un)satisfied customers."
   ]
  },
  {
   "cell_type": "markdown",
   "id": "00e6f76b",
   "metadata": {},
   "source": [
    "2. In spite of that conclusion, EDA analysis and ML modelling were informative about what questions of the survey are the most important to explain customer (un)happiness. Using linear SVM, consistently with EDA analysis, I found out that the most important questions, starting from the most important to the least one,  are the following:\n",
    "\n",
    "* 'X1': Delivery time\n",
    "* 'X5': Courier satisfaction\n",
    "* 'X6': Customer experience in app\n",
    "* 'X3': Product availability\n",
    "* 'X4': Order price\n",
    "* 'X2': Order content accuracy"
   ]
  },
  {
   "cell_type": "markdown",
   "id": "d6520c09",
   "metadata": {},
   "source": [
    "3. The company outperforms in delivery time (X1) and facilitating ordering through an app (X6). In both cases, the answers of surveyed customers are coherent with the outcome, as happy customers prevail. Also, it may exist a weak to moderate relationship between both variables, meaning that sometimes (but not always) the app may be reducing order and delivery times, through making ordering process easier. "
   ]
  },
  {
   "cell_type": "markdown",
   "id": "6cf4b041",
   "metadata": {},
   "source": [
    "4. By the other way, order contents accuracy (X2) and product availability (X3) were graded with the worst grade as regular (3). Nonetheless, order contents accuracy question is not able to explain properly the outcome, as it has more happy customers with regular grades than unhappy ones, which can be unexpected."
   ]
  },
  {
   "cell_type": "markdown",
   "id": "d5c08f9d",
   "metadata": {},
   "source": [
    "## 5. Recommendations"
   ]
  },
  {
   "cell_type": "markdown",
   "id": "d37e407a",
   "metadata": {},
   "source": [
    "1. Deliver this report to main stakeholders, specially the marketing and customer service departments. "
   ]
  },
  {
   "cell_type": "markdown",
   "id": "f05f7411",
   "metadata": {},
   "source": [
    "2. Check how is order content accuracy question (X2) being formulated and how its  related customer happiness is being classified. It might be that the wording of the question is originating bias in the answers or that customer satisfaction is being missclassified around this question. After doing this exercise, it could be addressed if its convenient or not to remove this question from the survey. "
   ]
  },
  {
   "cell_type": "markdown",
   "id": "874a60e7",
   "metadata": {},
   "source": [
    "3. Promote and keep innovating in company's best strenghts: delivery times and CX in app. Try to deeply understand what is causing customers to be very satisfied with this aspects of the service. These might be the company's competitive advantage."
   ]
  },
  {
   "cell_type": "markdown",
   "id": "ed008050",
   "metadata": {},
   "source": [
    "4. Work on product availability. For that, it is important to track order demand, service levels and lost sales. Also, a good inventory policy and demand planning might be helpful. If already implemented, they might have to be refined. The company should evaluate if it is worth to hire a supply chain manager or consultancy to improve this aspect."
   ]
  },
  {
   "cell_type": "markdown",
   "id": "1dd1a4ec",
   "metadata": {},
   "source": [
    "5. If needed, prefer the company's current method rather than ML to predict customer satisfaction. Assuming that current method is resulting in a 73% accuracy score, this might be better than using ML due to the limitations of data that the company has. If the company does not have a method to classify, it may try rules of thumb, such as grading thresholds, to classify customers into happy or unhappy. Chances are the latter will be much less costly and effective than ML in this case."
   ]
  },
  {
   "cell_type": "markdown",
   "id": "b7e0a806",
   "metadata": {},
   "source": [
    "6. Track repurchase rates and satisfaction rates."
   ]
  },
  {
   "cell_type": "markdown",
   "id": "69b261a2",
   "metadata": {},
   "source": [
    "7. Contact me if there are any further doubts. I would be glad to help. ;)"
   ]
  },
  {
   "cell_type": "markdown",
   "id": "747a07f2",
   "metadata": {},
   "source": [
    "## Exhibits"
   ]
  },
  {
   "cell_type": "markdown",
   "id": "dd4771f8",
   "metadata": {},
   "source": [
    "### Exhibit 1: relative frequencies for each variable, by category in target variable"
   ]
  },
  {
   "cell_type": "code",
   "execution_count": 13,
   "id": "74761073",
   "metadata": {},
   "outputs": [
    {
     "name": "stdout",
     "output_type": "stream",
     "text": [
      "Y          0         1\n",
      "X1                    \n",
      "1   0.017544  0.000000\n",
      "3   0.210526  0.115942\n",
      "4   0.421053  0.231884\n",
      "5   0.350877  0.652174 \n",
      "\n",
      "Y          0         1\n",
      "X2                    \n",
      "1   0.228070  0.202899\n",
      "2   0.228070  0.304348\n",
      "3   0.333333  0.333333\n",
      "4   0.175439  0.101449\n",
      "5   0.035088  0.057971 \n",
      "\n",
      "Y          0         1\n",
      "X3                    \n",
      "1   0.070175  0.043478\n",
      "2   0.122807  0.101449\n",
      "3   0.508772  0.376812\n",
      "4   0.192982  0.318841\n",
      "5   0.105263  0.159420 \n",
      "\n",
      "Y          0         1\n",
      "X4                    \n",
      "1   0.000000  0.028986\n",
      "2   0.070175  0.014493\n",
      "3   0.350877  0.304348\n",
      "4   0.403509  0.434783\n",
      "5   0.175439  0.217391 \n",
      "\n",
      "Y          0         1\n",
      "X5                    \n",
      "1   0.087719  0.028986\n",
      "2   0.157895  0.101449\n",
      "3   0.210526  0.144928\n",
      "4   0.385965  0.405797\n",
      "5   0.157895  0.318841 \n",
      "\n",
      "Y          0         1\n",
      "X6                    \n",
      "1   0.000000  0.014493\n",
      "2   0.017544  0.000000\n",
      "3   0.245614  0.086957\n",
      "4   0.350877  0.391304\n",
      "5   0.385965  0.507246 \n",
      "\n"
     ]
    }
   ],
   "source": [
    "# Exhibit 1: Calculate relative frequencies for each variable, by category in target variable\n",
    "for i in range(1,7):\n",
    "    print(pd.crosstab(satisfaction.iloc[:,i],satisfaction['Y'] , normalize='columns'),\"\\n\")"
   ]
  }
 ],
 "metadata": {
  "kernelspec": {
   "display_name": "Python 3 (ipykernel)",
   "language": "python",
   "name": "python3"
  },
  "language_info": {
   "codemirror_mode": {
    "name": "ipython",
    "version": 3
   },
   "file_extension": ".py",
   "mimetype": "text/x-python",
   "name": "python",
   "nbconvert_exporter": "python",
   "pygments_lexer": "ipython3",
   "version": "3.9.13"
  }
 },
 "nbformat": 4,
 "nbformat_minor": 5
}
